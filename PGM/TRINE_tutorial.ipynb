{
 "cells": [
  {
   "cell_type": "markdown",
   "metadata": {},
   "source": [
    "# TRINE Tutorial"
   ]
  },
  {
   "cell_type": "markdown",
   "metadata": {},
   "source": [
    "This notebook walks through how TRINE can be used to predict the date of occurence of a recurrent event given partial noisy information about the event."
   ]
  },
  {
   "cell_type": "code",
   "execution_count": 1,
   "metadata": {},
   "outputs": [],
   "source": [
    "# rename this\n",
    "from marginal_inference_list import marginal_inference as trine_infer\n",
    "from marginal_inference_list import get_dists\n",
    "\n",
    "from collections import OrderedDict\n",
    "from IPython.display import Image"
   ]
  },
  {
   "cell_type": "markdown",
   "metadata": {},
   "source": [
    "We will illustrate the usage with the example of Super Bowl which is shown in Fig 3 of the paper (reproduced below):\n",
    "\n",
    "<center>\n",
    "<img src=\"superbowl.png\" width=\"400\">\n",
    "</center>"
   ]
  },
  {
   "cell_type": "markdown",
   "metadata": {},
   "source": [
    "The schedule extractor has extracted the broad schedule \"FEB\" for the event. The instance extractor has two instances for Super Bowl 2016 with differing confidences, and once extraction for Super Bowl 2015. In our knowledge base, we have the actual occurence date of Super Bowl 2014. The date \"June 23 2016\" is clearly an erroneous extraction from the instance extractor.\n",
    "\n",
    "Let us use this data to get a ranked list of predictions for the year 2018."
   ]
  },
  {
   "cell_type": "code",
   "execution_count": 2,
   "metadata": {},
   "outputs": [],
   "source": [
    "# all instances with confidences\n",
    "instances = [ [(2014, 2, 2)], [(2015, 1, 25)], [(2016, 6, 23), (2016, 2, 7)] ]\n",
    "confidences = [ [1.0], [0.7], [0.6, 0.9] ]\n",
    "\n",
    "# extracted schedule\n",
    "sched_ext = 'm02' # FEB\n",
    "\n",
    "query_year = 2018"
   ]
  },
  {
   "cell_type": "markdown",
   "metadata": {},
   "source": [
    "Notice that we folded in the knowledge base entry (2 Feb 2014) into our list of extractions, while keeping its confidence equal to 1. We know perform inference to return a ranked list of predictions for 2018."
   ]
  },
  {
   "cell_type": "code",
   "execution_count": 3,
   "metadata": {},
   "outputs": [],
   "source": [
    "dists = get_dists(instances, query_year) # loading distributions for all relevant years\n",
    "\n",
    "pred = trine_infer(instances, [sched_ext], dists, query_year, confidences)"
   ]
  },
  {
   "cell_type": "code",
   "execution_count": 6,
   "metadata": {},
   "outputs": [
    {
     "data": {
      "text/plain": [
       "[35, 33, 38, 34, 36]"
      ]
     },
     "execution_count": 6,
     "metadata": {},
     "output_type": "execute_result"
    }
   ],
   "source": [
    "pred[:5] # day of year (35 = 4th Feb)"
   ]
  },
  {
   "cell_type": "markdown",
   "metadata": {},
   "source": [
    "TRINE returns a ranked list of predictions, with 4 Feb 2018 (35th day of the year) being the top prediction. This corroborates with the actual date of the event (https://en.wikipedia.org/wiki/Super_Bowl_LII). We can use the following code to convert day of the year to dates."
   ]
  },
  {
   "cell_type": "code",
   "execution_count": 7,
   "metadata": {},
   "outputs": [],
   "source": [
    "import datetime \n",
    "\n",
    "def day_to_date(day, year):\n",
    "    return datetime.datetime(year, 1, 1) + datetime.timedelta(day - 1)"
   ]
  },
  {
   "cell_type": "code",
   "execution_count": 8,
   "metadata": {},
   "outputs": [
    {
     "data": {
      "text/plain": [
       "[datetime.datetime(2018, 2, 4, 0, 0),\n",
       " datetime.datetime(2018, 2, 2, 0, 0),\n",
       " datetime.datetime(2018, 2, 7, 0, 0),\n",
       " datetime.datetime(2018, 2, 3, 0, 0),\n",
       " datetime.datetime(2018, 2, 5, 0, 0)]"
      ]
     },
     "execution_count": 8,
     "metadata": {},
     "output_type": "execute_result"
    }
   ],
   "source": [
    "pred_dates = [day_to_date(day, query_year) for day in pred]\n",
    "pred_dates[:5]"
   ]
  }
 ],
 "metadata": {
  "kernelspec": {
   "display_name": "Python 3",
   "language": "python",
   "name": "python3"
  },
  "language_info": {
   "codemirror_mode": {
    "name": "ipython",
    "version": 3
   },
   "file_extension": ".py",
   "mimetype": "text/x-python",
   "name": "python",
   "nbconvert_exporter": "python",
   "pygments_lexer": "ipython3",
   "version": "3.6.4"
  }
 },
 "nbformat": 4,
 "nbformat_minor": 2
}
